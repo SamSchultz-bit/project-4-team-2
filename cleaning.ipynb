{
 "cells": [
  {
   "cell_type": "code",
   "execution_count": 1,
   "metadata": {},
   "outputs": [],
   "source": [
    "import numpy as np\n",
    "import pandas as pd\n",
    "import matplotlib\n",
    "import matplotlib.pyplot as plt\n",
    "\n",
    "# for handling and parsing email files\n",
    "import email\n",
    "import os\n",
    "import re\n",
    "\n",
    "from bs4 import BeautifulSoup\n",
    "from collections import Counter"
   ]
  },
  {
   "cell_type": "code",
   "execution_count": null,
   "metadata": {},
   "outputs": [],
   "source": [
    "# load ham and spam files\n",
    "ham_fnames = [name for name in sorted(os.listdir(\"/kaggle/input/email-spam-dataset-extended/ham_zipped/main_ham\"))]\n",
    "spam_fnames = [name for name in sorted(os.listdir(\"/kaggle/input/email-spam-dataset-extended/spam_zipped/main_spam\"))]"
   ]
  },
  {
   "cell_type": "code",
   "execution_count": null,
   "metadata": {},
   "outputs": [],
   "source": [
    "def parse_email(fname, spam=False):\n",
    "    directory = \"/kaggle/input/email-spam-dataset-extended/spam_zipped/main_spam\" if spam else \"/kaggle/input/email-spam-dataset-extended/ham_zipped/main_ham\"\n",
    "    with open(os.path.join(directory, fname), \"rb\") as fp:\n",
    "        return email.parser.BytesParser().parse(fp)\n",
    "        \n",
    "ham_emails = [parse_email(name) for name in ham_fnames]\n",
    "spam_emails = [parse_email(name, spam=True) for name in spam_fnames]"
   ]
  },
  {
   "cell_type": "code",
   "execution_count": null,
   "metadata": {},
   "outputs": [],
   "source": [
    "test_email = ham_emails[0]\n",
    "test_email"
   ]
  },
  {
   "cell_type": "code",
   "execution_count": null,
   "metadata": {},
   "outputs": [],
   "source": [
    "multi_email = None\n",
    "\n",
    "for mail in ham_emails:\n",
    "    if mail.is_multipart():\n",
    "        multi_email = mail\n",
    "        break\n",
    "\n",
    "# Payload will be list of email.message.Message\n",
    "print(multi_email.get_payload())\n",
    "\n",
    "# Nested get payload\n",
    "print(multi_email.get_payload()[0].get_payload())\n",
    "print(multi_email.items())"
   ]
  },
  {
   "cell_type": "code",
   "execution_count": null,
   "metadata": {},
   "outputs": [],
   "source": [
    "def get_structure(email) -> str:\n",
    "    # can be a non leaf\n",
    "    payload = email.get_payload()\n",
    "    if isinstance(payload, list):\n",
    "        return \"multipart({})\".format(\", \".join(\n",
    "            get_structure(message)\n",
    "            for message in payload\n",
    "        ))\n",
    "    else:\n",
    "        return email.get_content_type()"
   ]
  },
  {
   "cell_type": "code",
   "execution_count": null,
   "metadata": {},
   "outputs": [],
   "source": [
    "# Function to count all the structures\n",
    "def email_structure_counter(emails):\n",
    "    structs = Counter()\n",
    "    for mail in emails:\n",
    "        mail_struct = get_structure(mail)\n",
    "        structs[mail_struct] += 1\n",
    "    return structs\n",
    "\n",
    "ham_structs = email_structure_counter(ham_emails)\n",
    "spam_structs = email_structure_counter(spam_emails)"
   ]
  },
  {
   "cell_type": "code",
   "execution_count": null,
   "metadata": {},
   "outputs": [],
   "source": [
    "html_email = None\n",
    "\n",
    "for email in spam_emails:\n",
    "    if get_structure(email) == 'text/html':\n",
    "        html_email = email\n",
    "        break\n",
    "\n",
    "print(html_email.get_payload())"
   ]
  },
  {
   "cell_type": "code",
   "execution_count": null,
   "metadata": {},
   "outputs": [],
   "source": [
    "def html_to_text(email) -> str:\n",
    "    try:\n",
    "        soup = BeautifulSoup(email.get_payload(), \"html.parser\")\n",
    "        plain = soup.text.replace(\"=\\n\", \"\")\n",
    "        plain = re.sub(r\"\\s+\", \" \", plain)\n",
    "        return plain.strip()\n",
    "    except:\n",
    "        return \"nothing\""
   ]
  },
  {
   "cell_type": "code",
   "execution_count": null,
   "metadata": {},
   "outputs": [],
   "source": [
    "print(html_to_text(html_email))"
   ]
  },
  {
   "cell_type": "code",
   "execution_count": null,
   "metadata": {},
   "outputs": [],
   "source": [
    "# General purpose function to convert an email to plain text\n",
    "def email_to_text(email):\n",
    "    text_content = \"\"\n",
    "    for part in email.walk():\n",
    "        part_content_type = part.get_content_type()\n",
    "        if part_content_type not in ['text/plain', 'text/html']:\n",
    "            continue\n",
    "        if part_content_type == 'text/plain':\n",
    "            text_content += part.get_payload()\n",
    "        else:\n",
    "            text_content += html_to_text(part)\n",
    "    return text_content\n",
    "\n",
    "print(\"Ham email in plain text:\\n\", email_to_text(ham_emails[3]))\n",
    "print(\"Spam email in plain text:\\n\", email_to_text(spam_emails[3]))"
   ]
  },
  {
   "cell_type": "code",
   "execution_count": null,
   "metadata": {},
   "outputs": [],
   "source": []
  },
  {
   "cell_type": "code",
   "execution_count": null,
   "metadata": {},
   "outputs": [],
   "source": []
  },
  {
   "cell_type": "code",
   "execution_count": null,
   "metadata": {},
   "outputs": [],
   "source": []
  },
  {
   "cell_type": "code",
   "execution_count": null,
   "metadata": {},
   "outputs": [],
   "source": []
  },
  {
   "cell_type": "code",
   "execution_count": null,
   "metadata": {},
   "outputs": [],
   "source": []
  },
  {
   "cell_type": "code",
   "execution_count": null,
   "metadata": {},
   "outputs": [],
   "source": []
  },
  {
   "cell_type": "code",
   "execution_count": null,
   "metadata": {},
   "outputs": [],
   "source": []
  }
 ],
 "metadata": {
  "kernelspec": {
   "display_name": "dev",
   "language": "python",
   "name": "python3"
  },
  "language_info": {
   "codemirror_mode": {
    "name": "ipython",
    "version": 3
   },
   "file_extension": ".py",
   "mimetype": "text/x-python",
   "name": "python",
   "nbconvert_exporter": "python",
   "pygments_lexer": "ipython3",
   "version": "3.10.8"
  }
 },
 "nbformat": 4,
 "nbformat_minor": 2
}
