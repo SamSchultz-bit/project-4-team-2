{
 "cells": [
  {
   "cell_type": "code",
   "execution_count": 10,
   "metadata": {},
   "outputs": [],
   "source": [
    "import numpy as np\n",
    "import pandas as pd\n",
    "import matplotlib\n",
    "import matplotlib.pyplot as plt\n",
    "\n",
    "# for handling and parsing email files\n",
    "import email\n",
    "import os\n",
    "import re\n",
    "import nltk\n",
    "\n",
    "from bs4 import BeautifulSoup\n",
    "from collections import Counter\n",
    "\n",
    "from sklearn.base import BaseEstimator, TransformerMixin\n",
    "from sklearn.model_selection import train_test_split\n",
    "from sklearn.pipeline import Pipeline"
   ]
  },
  {
   "cell_type": "code",
   "execution_count": 11,
   "metadata": {},
   "outputs": [],
   "source": [
    "# load ham and spam files\n",
    "ham_fnames = [name for name in sorted(os.listdir(\"Resources/main_ham\"))]\n",
    "spam_fnames = [name for name in sorted(os.listdir(\"Resources/main_spam\"))]"
   ]
  },
  {
   "cell_type": "code",
   "execution_count": 12,
   "metadata": {},
   "outputs": [],
   "source": [
    "# Creates a function that takes files in fnames variables and returns a parsed email\n",
    "def parse_email(fname, spam=False):\n",
    "    directory = \"Resources/main_spam\" if spam else \"Resources/main_ham\"\n",
    "    with open(os.path.join(directory, fname), \"rb\") as fp:\n",
    "        return email.parser.BytesParser().parse(fp)\n",
    "        \n",
    "ham_emails = [parse_email(name) for name in ham_fnames]\n",
    "spam_emails = [parse_email(name, spam=True) for name in spam_fnames]"
   ]
  },
  {
   "cell_type": "code",
   "execution_count": 13,
   "metadata": {},
   "outputs": [],
   "source": [
    "def html_to_text(email) -> str:\n",
    "    try:\n",
    "        soup = BeautifulSoup(email.get_payload(), \"html.parser\")\n",
    "        plain = soup.text.replace(\"=\\n\", \"\")\n",
    "        plain = re.sub(r\"\\s+\", \" \", plain)\n",
    "        return plain.strip()\n",
    "    except:\n",
    "        return \"nothing\""
   ]
  },
  {
   "cell_type": "code",
   "execution_count": 14,
   "metadata": {},
   "outputs": [
    {
     "name": "stdout",
     "output_type": "stream",
     "text": [
      "Ham email in plain text:\n",
      " > From:  Valdis.Kletnieks@vt.edu\n",
      "> Date:  Wed, 21 Aug 2002 02:36:56 -0400\n",
      ">\n",
      "> --==_Exmh_778588528P\n",
      "> Content-Type: text/plain; charset=us-ascii\n",
      "> \n",
      "> On Tue, 20 Aug 2002 22:51:52 EDT, Valdis.Kletnieks@vt.edu said:\n",
      "> \n",
      "> > Ever tried to get MH to *not* have a 'pseq' sequence?  I suspect everybod\n",
      "> y's\n",
      "> > looking at a big box that has unseen and pseq in it.  Might want to add\n",
      "> > 'pseq' to the 'hide by default' list....\n",
      "> \n",
      "> Was it intended that if you added a sequence to the 'never show' list that\n",
      "> it not take effect till you stopped and restarted exmh?  I added 'pseq',\n",
      "> then hit 'save' for Preferences - didn't take effect till I restarted.\n",
      "\n",
      "No it wasn't, and at one point it worked fine.  I'll check and see why it \n",
      "stopped working.\n",
      "\n",
      "Chris\n",
      "-- \n",
      "Chris Garrigues                 http://www.DeepEddy.Com/~cwg/\n",
      "virCIO                          http://www.virCIO.Com\n",
      "716 Congress, Suite 200\n",
      "Austin, TX  78701\t\t+1 512 374 0500\n",
      "\n",
      "  World War III:  The Wrong-Doers Vs. the Evil-Doers.\n",
      "\n",
      "\n",
      "\n",
      "\n",
      "Spam email in plain text:\n",
      " The Need For Safety Is Real In 2002, You Might Only Get One Chance - Be Ready! Free Shipping & Handling Within The (USA) If You Order Before May 25, 2002! 3 Day Super Sale, Now Until May 7, 2002! Save Up To $30.00 On Some Items! IT'S GETTING TO BE SPRING AGAIN, PROTECT YOURSELF AS YOU WALK, JOG AND EXERCISE OUTSIDE. ALSO PROTECT YOUR LOVED ONES AS THEY RETURN HOME FROM COLLEGE! * LEGAL PROTECTION FOR COLLEGE STUDENTS! * GREAT UP'COMING OUTDOOR PROTECTION GIFTS! * THERE IS NOTHING WORTH MORE PROTECTING THAN LIFE! * OUR STUN DEVICES & PEPPER PRODUCTS ARE LEGAL PROTECTION! JOIN THE WAR ON CRIME! STUN GUNS AND BATONS EFFECTIVE - SAFE - NONLETHAL PROTECT YOUR LOVED ONES AND YOURSELF No matter who you are, no matter what City or Town you live in, if you live in America, you will be touched by crime. You hear about it on TV. You read about it in the newspaper. It's no secret that crime is a major problem in the U.S. today. Criminals are finding it easier to commit crimes all the time. Weapons are readily available. Our cities' police forces have more work than they can handle. Even if these criminal are caught, they won't be spending long in our nation's overcrowded jails. And while lawmakers are well aware of the crime problem, they don't seem to have any effective answers. Our Email Address: Merchants4all@aol.com INTERESTED: You will be protecting yourself within 7 days! Don't Wait, visit our web page below, and join The War On Crime! ***************** http://www.geocities.com/realprotection_20022003/ ***************** Well, there is an effective answer. Take responsibility for your own security. Our site has a variety of quality personal security products. Visit our site, choose the personal security products that are right for you. Use them, and join the war on crime! FREE PEPPER SPRAY WITH ANY STUN UNIT PURCHASE. (A Value of $15.95) We Ship Orders Within 5 To 7 Days, To Every State In The U.S.A. by UPS, FEDEX, or U.S. POSTAL SERVICE. Visa, MasterCard, American Express & Debt Card Gladly Accepted. Ask yourself this question, if you don't help your loved ones, who will? INTERESTED: ***************** http://www.geocities.com/realprotection_20022003/ ***************** ___The Stun Monster 625,000 Volts ($86.95) ___The Z-Force Slim Style 300,000 Volts ($64.95) ___The StunMaster 300,000 Volts Straight ($59.95) ___The StunMaster 300,000 Volts Curb ($59.95) ___The StunMaster 200,000 Volts Straight ($49.95) ___The StunMaster 200,000 Volts Curb ($49.95) ___The StunBaton 500,000 Volts ($89.95) ___The StunBaton 300,000 Volts ($79.95) ___Pen Knife (One $12.50, Two Or More $9.00) ___Wildfire Pepper Spray (One $15.95, Two Or More $11.75) ___Add $5.75 For Shipping & Handling Charge. To Order by postal mail, please send to the below address. Make payable to Mega Safety Technology. Mega Safety Technology 3215 Merrimac Ave. Dayton, Ohio 45405 Our Email Address: Merchants4all@aol.com Order by 24 Hour Fax!!! 775-257-6657. ***** Important Credit Card Information! Please Read Below! * Credit Card Address, City, State and Zip Code, must match billing address to be processed. CHECK____ MONEYORDER____ VISA____ MASTERCARD____ AmericanExpress___ Debt Card___ Name_______________________________________________________ (As it appears on Check or Credit Card) Address____________________________________________________ (As it appears on Check or Credit Card) ___________________________________________________ City,State,Zip(As it appears on Check or Credit Card) ___________________________________________________ Country ___________________________________________________ (Credit Card Number) Expiration Month_____ Year_____ ___________________________________________________ Authorized Signature *****IMPORTANT NOTE***** If Shipping Address Is Different From The Billing Address Above, Please Fill Out Information Below. Shipping Name______________________________________________ Shipping Address___________________________________________ ___________________________________________________________ Shipping City,State,Zip ___________________________________________________________ Country ___________________________________________________________ Email Address & Phone Number(Please Write Neat)\n"
     ]
    }
   ],
   "source": [
    "# General purpose function to convert an email to plain text\n",
    "def email_to_text(email):\n",
    "    text_content = \"\"\n",
    "    for part in email.walk():\n",
    "        part_content_type = part.get_content_type()\n",
    "        if part_content_type not in ['text/plain', 'text/html']:\n",
    "            continue\n",
    "        if part_content_type == 'text/plain':\n",
    "            text_content += part.get_payload()\n",
    "        else:\n",
    "            text_content += html_to_text(part)\n",
    "    return text_content\n",
    "\n",
    "print(\"Ham email in plain text:\\n\", email_to_text(ham_emails[3]))\n",
    "print(\"Spam email in plain text:\\n\", email_to_text(spam_emails[3]))"
   ]
  },
  {
   "cell_type": "code",
   "execution_count": 15,
   "metadata": {},
   "outputs": [],
   "source": [
    "# transforms the email to count the word usage in the message\n",
    "class EmailToWordsCount(BaseEstimator, TransformerMixin):\n",
    "    def __init__(self, strip_headers=True, to_lowercase=True, remove_punc=True, do_stem=True):\n",
    "        self.strip_headers = strip_headers\n",
    "        self.to_lowercase = to_lowercase\n",
    "        self.remove_punc = remove_punc\n",
    "        self.do_stem = do_stem\n",
    "        \n",
    "        # To perform stemming\n",
    "        self.stemmer = nltk.PorterStemmer()\n",
    "    def fit(self, X, y=None):\n",
    "        return self\n",
    "    def transform(self, X, y=None):\n",
    "        X_word_counts = []\n",
    "        for email in X:\n",
    "            # text of the email\n",
    "            plain = email_to_text(email)\n",
    "            if plain is None:\n",
    "                plain = \"nothing\"\n",
    "            \n",
    "            if self.to_lowercase:\n",
    "                plain = plain.lower()\n",
    "            \n",
    "            if self.remove_punc:\n",
    "                plain = plain.replace(\".\", \"\")\n",
    "                plain = plain.replace(\",\", \"\")\n",
    "                plain = plain.replace(\"!\", \"\")\n",
    "                plain = plain.replace(\"?\", \"\")\n",
    "                plain = plain.replace(\";\", \"\")\n",
    "                \n",
    "            word_counts = Counter(plain.split())\n",
    "            if self.do_stem:\n",
    "                # Stem the word, and add their counts\n",
    "                stemmed_word_counts = Counter()\n",
    "                for word, count in word_counts.items():\n",
    "                    root_word = self.stemmer.stem(word)\n",
    "                    stemmed_word_counts[root_word] += count\n",
    "                word_counts = stemmed_word_counts\n",
    "            \n",
    "            X_word_counts.append(word_counts)\n",
    "        return np.array(X_word_counts)"
   ]
  },
  {
   "cell_type": "code",
   "execution_count": 16,
   "metadata": {},
   "outputs": [],
   "source": [
    "#Build a Numpy matrix with the vocabulary of words to consider and their usage counts\n",
    "class WordCountVectorizer(BaseEstimator, TransformerMixin):\n",
    "    def __init__(self, vocabulary_size=1000):\n",
    "        self.vocabulary_size = vocabulary_size\n",
    "    # train on list of word counts and build vocabulary\n",
    "    def fit(self, X, y=None):\n",
    "        total_word_counts = Counter()\n",
    "        for word_count in X:\n",
    "            for word, count in word_count.items():\n",
    "                total_word_counts[word] += count\n",
    "                \n",
    "        # Build a vocabulary out of total most common\n",
    "        self.most_common = total_word_counts.most_common()[:self.vocabulary_size]\n",
    "        self.vocabulary_ = {word: i for i, (word, count) in enumerate(self.most_common)}\n",
    "    \n",
    "        return self\n",
    "    # Create the vector out of vocabulary\n",
    "    def transform(self, X, y=None):\n",
    "        X_new = np.zeros([X.shape[0], self.vocabulary_size + 1], dtype=int)\n",
    "        \n",
    "        # The vectors will contain additional column for counts of words\n",
    "        # not captured in vocabulary\n",
    "        for row, word_counts in enumerate(X):\n",
    "            for word, count in word_counts.items():\n",
    "                col = self.vocabulary_.get(word, self.vocabulary_size)\n",
    "                X_new[row, col] += count\n",
    "                \n",
    "        return X_new"
   ]
  },
  {
   "cell_type": "code",
   "execution_count": 17,
   "metadata": {},
   "outputs": [],
   "source": [
    "email_to_cvector = Pipeline([\n",
    "    (\"emailToWords\", EmailToWordsCount()), \n",
    "    (\"wordCountVectorizer\", WordCountVectorizer())\n",
    "])"
   ]
  },
  {
   "cell_type": "code",
   "execution_count": 18,
   "metadata": {},
   "outputs": [],
   "source": [
    "X = np.array(ham_emails + spam_emails, dtype='object')\n",
    "y = np.array([0] * len(ham_emails) + [1] * len(spam_emails))"
   ]
  },
  {
   "cell_type": "code",
   "execution_count": 19,
   "metadata": {},
   "outputs": [
    {
     "name": "stdout",
     "output_type": "stream",
     "text": [
      "<class 'numpy.ndarray'>\n"
     ]
    }
   ],
   "source": [
    "print(type(X))"
   ]
  },
  {
   "cell_type": "code",
   "execution_count": 20,
   "metadata": {},
   "outputs": [
    {
     "name": "stdout",
     "output_type": "stream",
     "text": [
      "Training set size:  (7479,) (7479,)\n",
      "Testing set size:  (1870,) (1870,)\n"
     ]
    }
   ],
   "source": [
    "X_train, X_test, y_train, y_test = train_test_split(X, y, test_size=0.2, shuffle=True, random_state=3301)\n",
    "\n",
    "print(\"Training set size: \", X_train.shape, y_train.shape)\n",
    "print(\"Testing set size: \", X_test.shape, y_test.shape)"
   ]
  },
  {
   "cell_type": "code",
   "execution_count": 21,
   "metadata": {},
   "outputs": [
    {
     "data": {
      "text/plain": [
       "array([[  7,   6,   0, ...,   0,   0,  57],\n",
       "       [  9,   7,   0, ...,   0,   0,  42],\n",
       "       [  1,   5,   4, ...,   0,   0,  60],\n",
       "       ...,\n",
       "       [ 14,   9,   0, ...,   0,   0, 134],\n",
       "       [ 33,  20,   0, ...,   1,   0, 125],\n",
       "       [  0,   3,   0, ...,   0,   0,  17]])"
      ]
     },
     "execution_count": 21,
     "metadata": {},
     "output_type": "execute_result"
    }
   ],
   "source": [
    "# prepare the training and testing set \n",
    "X_train_prepared = email_to_cvector.fit_transform(X_train)\n",
    "X_train_prepared"
   ]
  },
  {
   "cell_type": "code",
   "execution_count": 22,
   "metadata": {},
   "outputs": [
    {
     "data": {
      "text/plain": [
       "array([[  2,   0,   0, ...,   0,   0,  37],\n",
       "       [ 23,  21,   0, ...,   0,   0, 168],\n",
       "       [  2,   3,   0, ...,   0,   0,  19],\n",
       "       ...,\n",
       "       [ 16,   7,   0, ...,   0,   0,  63],\n",
       "       [ 31,  41,  33, ...,   0,   0, 164],\n",
       "       [  0,   4,   0, ...,   0,   0,  22]])"
      ]
     },
     "execution_count": 22,
     "metadata": {},
     "output_type": "execute_result"
    }
   ],
   "source": [
    "X_test_prepared = email_to_cvector.transform(X_test)\n",
    "X_test_prepared"
   ]
  },
  {
   "cell_type": "code",
   "execution_count": null,
   "metadata": {},
   "outputs": [],
   "source": []
  },
  {
   "cell_type": "code",
   "execution_count": null,
   "metadata": {},
   "outputs": [],
   "source": []
  }
 ],
 "metadata": {
  "kernelspec": {
   "display_name": "dev",
   "language": "python",
   "name": "python3"
  },
  "language_info": {
   "codemirror_mode": {
    "name": "ipython",
    "version": 3
   },
   "file_extension": ".py",
   "mimetype": "text/x-python",
   "name": "python",
   "nbconvert_exporter": "python",
   "pygments_lexer": "ipython3",
   "version": "3.10.8"
  }
 },
 "nbformat": 4,
 "nbformat_minor": 2
}
