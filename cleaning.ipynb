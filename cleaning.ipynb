{
 "cells": [
  {
   "cell_type": "code",
   "execution_count": 28,
   "metadata": {},
   "outputs": [],
   "source": [
    "import numpy as np\n",
    "import pandas as pd\n",
    "import matplotlib\n",
    "import matplotlib.pyplot as plt\n",
    "\n",
    "# for handling and parsing email files\n",
    "import email\n",
    "import os\n",
    "import re\n",
    "import nltk\n",
    "\n",
    "from bs4 import BeautifulSoup\n",
    "from collections import Counter\n",
    "\n",
    "from sklearn.base import BaseEstimator, TransformerMixin\n",
    "from sklearn.model_selection import train_test_split\n",
    "from sklearn.pipeline import Pipeline"
   ]
  },
  {
   "cell_type": "code",
   "execution_count": 3,
   "metadata": {},
   "outputs": [],
   "source": [
    "# load ham and spam files\n",
    "ham_fnames = [name for name in sorted(os.listdir(\"Resources/main_ham\"))]\n",
    "spam_fnames = [name for name in sorted(os.listdir(\"Resources/main_spam\"))]"
   ]
  },
  {
   "cell_type": "code",
   "execution_count": 4,
   "metadata": {},
   "outputs": [],
   "source": [
    "# Creates a function that takes files in fnames variables and returns a parsed email\n",
    "def parse_email(fname, spam=False):\n",
    "    directory = \"Resources/main_spam\" if spam else \"Resources/main_ham\"\n",
    "    with open(os.path.join(directory, fname), \"rb\") as fp:\n",
    "        return email.parser.BytesParser().parse(fp)\n",
    "        \n",
    "ham_emails = [parse_email(name) for name in ham_fnames]\n",
    "spam_emails = [parse_email(name, spam=True) for name in spam_fnames]"
   ]
  },
  {
   "cell_type": "code",
   "execution_count": 13,
   "metadata": {},
   "outputs": [
    {
     "name": "stdout",
     "output_type": "stream",
     "text": [
      "[<email.message.Message object at 0x103e07790>, <email.message.Message object at 0x103e07340>]\n",
      "> From:  Valdis.Kletnieks@vt.edu\n",
      "> Date:  Wed, 21 Aug 2002 02:36:56 -0400\n",
      ">\n",
      "> --==_Exmh_778588528P\n",
      "> Content-Type: text/plain; charset=us-ascii\n",
      "> \n",
      "> On Tue, 20 Aug 2002 22:51:52 EDT, Valdis.Kletnieks@vt.edu said:\n",
      "> \n",
      "> > Ever tried to get MH to *not* have a 'pseq' sequence?  I suspect everybod\n",
      "> y's\n",
      "> > looking at a big box that has unseen and pseq in it.  Might want to add\n",
      "> > 'pseq' to the 'hide by default' list....\n",
      "> \n",
      "> Was it intended that if you added a sequence to the 'never show' list that\n",
      "> it not take effect till you stopped and restarted exmh?  I added 'pseq',\n",
      "> then hit 'save' for Preferences - didn't take effect till I restarted.\n",
      "\n",
      "No it wasn't, and at one point it worked fine.  I'll check and see why it \n",
      "stopped working.\n",
      "\n",
      "Chris\n",
      "-- \n",
      "Chris Garrigues                 http://www.DeepEddy.Com/~cwg/\n",
      "virCIO                          http://www.virCIO.Com\n",
      "716 Congress, Suite 200\n",
      "Austin, TX  78701\t\t+1 512 374 0500\n",
      "\n",
      "  World War III:  The Wrong-Doers Vs. the Evil-Doers.\n",
      "\n",
      "\n",
      "\n",
      "\n",
      "[('Return-Path', '<exmh-workers-admin@spamassassin.taint.org>'), ('Delivered-To', 'yyyy@localhost.netnoteinc.com'), ('Received', 'from localhost (localhost [127.0.0.1])\\n\\tby phobos.labs.netnoteinc.com (Postfix) with ESMTP id DE7E443C32\\n\\tfor <jm@localhost>; Wed, 21 Aug 2002 11:18:34 -0400 (EDT)'), ('Received', 'from phobos [127.0.0.1]\\n\\tby localhost with IMAP (fetchmail-5.9.0)\\n\\tfor jm@localhost (single-drop); Wed, 21 Aug 2002 16:18:34 +0100 (IST)'), ('Received', 'from listman.spamassassin.taint.org (listman.spamassassin.taint.org [66.187.233.211]) by\\n    dogma.slashnull.org (8.11.6/8.11.6) with ESMTP id g7LFFwZ30827 for\\n    <jm-exmh@jmason.org>; Wed, 21 Aug 2002 16:16:07 +0100'), ('Received', 'from listman.spamassassin.taint.org (localhost.localdomain [127.0.0.1]) by\\n    listman.redhat.com (Postfix) with ESMTP id 78A9B405D2; Wed, 21 Aug 2002\\n    11:16:02 -0400 (EDT)'), ('Delivered-To', 'exmh-workers@listman.spamassassin.taint.org'), ('Received', 'from int-mx1.corp.spamassassin.taint.org (int-mx1.corp.spamassassin.taint.org\\n    [172.16.52.254]) by listman.redhat.com (Postfix) with ESMTP id 2B5BE40673\\n    for <exmh-workers@listman.redhat.com>; Wed, 21 Aug 2002 11:15:25 -0400\\n    (EDT)'), ('Received', '(from mail@localhost) by int-mx1.corp.spamassassin.taint.org (8.11.6/8.11.6)\\n    id g7LFFMI22899 for exmh-workers@listman.redhat.com; Wed, 21 Aug 2002\\n    11:15:22 -0400'), ('Received', 'from mx1.spamassassin.taint.org (mx1.spamassassin.taint.org [172.16.48.31]) by\\n    int-mx1.corp.redhat.com (8.11.6/8.11.6) with SMTP id g7LFFMY22895 for\\n    <exmh-workers@redhat.com>; Wed, 21 Aug 2002 11:15:22 -0400'), ('Received', 'from austin-jump.vircio.com\\n    (IDENT:jQOLv0WpB5D5TUjfQa3U3Q/J1v0CFYRH@jump-austin.vircio.com\\n    [192.12.3.99]) by mx1.redhat.com (8.11.6/8.11.6) with SMTP id g7LF0xl24211\\n    for <exmh-workers@redhat.com>; Wed, 21 Aug 2002 11:01:00 -0400'), ('Received', '(qmail 27061 invoked by uid 104); 21 Aug 2002 15:15:21 -0000'), ('Received', 'from cwg-exmh@DeepEddy.Com by localhost.localdomain with\\n    qmail-scanner-0.90 (uvscan: v4.1.60/v4218. . Clean. Processed in 0.414791\\n    secs); 21/08/2002 10:15:21'), ('Received', 'from deepeddy.vircio.com ([10.1.2.1]) (envelope-sender\\n    <cwg-exmh@DeepEddy.Com>) by austin-jump.vircio.com (qmail-ldap-1.03) with\\n    SMTP for <exmh-workers@redhat.com>; 21 Aug 2002 15:15:20 -0000'), ('Received', '(qmail 26211 invoked from network); 21 Aug 2002 15:15:20 -0000'), ('Received', 'from localhost (HELO deepeddy.vircio.com) ([127.0.0.1])\\n    (envelope-sender <cwg-exmh@DeepEddy.Com>) by localhost (qmail-ldap-1.03)\\n    with SMTP for <exmh-workers@redhat.com>; 21 Aug 2002 15:15:20 -0000'), ('X-Mailer', 'exmh version 2.5 07/13/2001 with nmh-1.0.4'), ('To', 'Valdis.Kletnieks@vt.edu'), ('Cc', 'exmh-workers@spamassassin.taint.org'), ('Subject', 'Re: New Sequences Window'), ('In-Reply-To', '<200208210636.g7L6auKb003559@turing-police.cc.vt.edu>'), ('References', '<1029882468.3116.TMDA@deepeddy.vircio.com>\\n    <200208210251.g7L2pqKb001805@turing-police.cc.vt.edu>\\n    <200208210636.g7L6auKb003559@turing-police.cc.vt.edu>'), ('X-Url', 'http://www.DeepEddy.Com/~cwg'), ('X-Image-Url', 'http://www.DeepEddy.Com/~cwg/chris.gif'), ('MIME-Version', '1.0'), ('Content-Type', 'multipart/signed;\\n    boundary=\"==_Exmh_-199405358P\";\\n    micalg=pgp-sha1;\\n    protocol=\"application/pgp-signature\"'), ('Content-Transfer-Encoding', '7bit'), ('Message-Id', '<1029942920.26199.TMDA@deepeddy.vircio.com>'), ('From', 'Chris Garrigues <cwg-exmh@DeepEddy.Com>'), ('X-Delivery-Agent', 'TMDA/0.57'), ('Reply-To', 'Chris Garrigues <cwg-dated-1030374920.b319f1@DeepEddy.Com>'), ('X-Loop', 'exmh-workers@spamassassin.taint.org'), ('Sender', 'exmh-workers-admin@spamassassin.taint.org'), ('Errors-To', 'exmh-workers-admin@spamassassin.taint.org'), ('X-Beenthere', 'exmh-workers@spamassassin.taint.org'), ('X-Mailman-Version', '2.0.1'), ('Precedence', 'bulk'), ('List-Help', '<mailto:exmh-workers-request@spamassassin.taint.org?subject=help>'), ('List-Post', '<mailto:exmh-workers@spamassassin.taint.org>'), ('List-Subscribe', '<https://listman.spamassassin.taint.org/mailman/listinfo/exmh-workers>,\\n    <mailto:exmh-workers-request@redhat.com?subject=subscribe>'), ('List-Id', 'Discussion list for EXMH developers <exmh-workers.spamassassin.taint.org>'), ('List-Unsubscribe', '<https://listman.spamassassin.taint.org/mailman/listinfo/exmh-workers>,\\n    <mailto:exmh-workers-request@redhat.com?subject=unsubscribe>'), ('List-Archive', '<https://listman.spamassassin.taint.org/mailman/private/exmh-workers/>'), ('Date', 'Wed, 21 Aug 2002 10:15:18 -0500')]\n"
     ]
    }
   ],
   "source": [
    "#To handle reply threads in the data\n",
    "multi_email = None\n",
    "\n",
    "for mail in ham_emails:\n",
    "    if mail.is_multipart():\n",
    "        multi_email = mail\n",
    "        break\n",
    "\n",
    "# Payload will be list of email.message.Message\n",
    "print(multi_email.get_payload())\n",
    "\n",
    "# Nested get payload\n",
    "print(multi_email.get_payload()[0].get_payload())\n",
    "print(multi_email.items())"
   ]
  },
  {
   "cell_type": "code",
   "execution_count": 12,
   "metadata": {},
   "outputs": [
    {
     "name": "stdout",
     "output_type": "stream",
     "text": [
      "Ham email in plain text:\n",
      " > From:  Valdis.Kletnieks@vt.edu\n",
      "> Date:  Wed, 21 Aug 2002 02:36:56 -0400\n",
      ">\n",
      "> --==_Exmh_778588528P\n",
      "> Content-Type: text/plain; charset=us-ascii\n",
      "> \n",
      "> On Tue, 20 Aug 2002 22:51:52 EDT, Valdis.Kletnieks@vt.edu said:\n",
      "> \n",
      "> > Ever tried to get MH to *not* have a 'pseq' sequence?  I suspect everybod\n",
      "> y's\n",
      "> > looking at a big box that has unseen and pseq in it.  Might want to add\n",
      "> > 'pseq' to the 'hide by default' list....\n",
      "> \n",
      "> Was it intended that if you added a sequence to the 'never show' list that\n",
      "> it not take effect till you stopped and restarted exmh?  I added 'pseq',\n",
      "> then hit 'save' for Preferences - didn't take effect till I restarted.\n",
      "\n",
      "No it wasn't, and at one point it worked fine.  I'll check and see why it \n",
      "stopped working.\n",
      "\n",
      "Chris\n",
      "-- \n",
      "Chris Garrigues                 http://www.DeepEddy.Com/~cwg/\n",
      "virCIO                          http://www.virCIO.Com\n",
      "716 Congress, Suite 200\n",
      "Austin, TX  78701\t\t+1 512 374 0500\n",
      "\n",
      "  World War III:  The Wrong-Doers Vs. the Evil-Doers.\n",
      "\n",
      "\n",
      "\n",
      "\n",
      "Spam email in plain text:\n",
      " The Need For Safety Is Real In 2002, You Might Only Get One Chance - Be Ready! Free Shipping & Handling Within The (USA) If You Order Before May 25, 2002! 3 Day Super Sale, Now Until May 7, 2002! Save Up To $30.00 On Some Items! IT'S GETTING TO BE SPRING AGAIN, PROTECT YOURSELF AS YOU WALK, JOG AND EXERCISE OUTSIDE. ALSO PROTECT YOUR LOVED ONES AS THEY RETURN HOME FROM COLLEGE! * LEGAL PROTECTION FOR COLLEGE STUDENTS! * GREAT UP'COMING OUTDOOR PROTECTION GIFTS! * THERE IS NOTHING WORTH MORE PROTECTING THAN LIFE! * OUR STUN DEVICES & PEPPER PRODUCTS ARE LEGAL PROTECTION! JOIN THE WAR ON CRIME! STUN GUNS AND BATONS EFFECTIVE - SAFE - NONLETHAL PROTECT YOUR LOVED ONES AND YOURSELF No matter who you are, no matter what City or Town you live in, if you live in America, you will be touched by crime. You hear about it on TV. You read about it in the newspaper. It's no secret that crime is a major problem in the U.S. today. Criminals are finding it easier to commit crimes all the time. Weapons are readily available. Our cities' police forces have more work than they can handle. Even if these criminal are caught, they won't be spending long in our nation's overcrowded jails. And while lawmakers are well aware of the crime problem, they don't seem to have any effective answers. Our Email Address: Merchants4all@aol.com INTERESTED: You will be protecting yourself within 7 days! Don't Wait, visit our web page below, and join The War On Crime! ***************** http://www.geocities.com/realprotection_20022003/ ***************** Well, there is an effective answer. Take responsibility for your own security. Our site has a variety of quality personal security products. Visit our site, choose the personal security products that are right for you. Use them, and join the war on crime! FREE PEPPER SPRAY WITH ANY STUN UNIT PURCHASE. (A Value of $15.95) We Ship Orders Within 5 To 7 Days, To Every State In The U.S.A. by UPS, FEDEX, or U.S. POSTAL SERVICE. Visa, MasterCard, American Express & Debt Card Gladly Accepted. Ask yourself this question, if you don't help your loved ones, who will? INTERESTED: ***************** http://www.geocities.com/realprotection_20022003/ ***************** ___The Stun Monster 625,000 Volts ($86.95) ___The Z-Force Slim Style 300,000 Volts ($64.95) ___The StunMaster 300,000 Volts Straight ($59.95) ___The StunMaster 300,000 Volts Curb ($59.95) ___The StunMaster 200,000 Volts Straight ($49.95) ___The StunMaster 200,000 Volts Curb ($49.95) ___The StunBaton 500,000 Volts ($89.95) ___The StunBaton 300,000 Volts ($79.95) ___Pen Knife (One $12.50, Two Or More $9.00) ___Wildfire Pepper Spray (One $15.95, Two Or More $11.75) ___Add $5.75 For Shipping & Handling Charge. To Order by postal mail, please send to the below address. Make payable to Mega Safety Technology. Mega Safety Technology 3215 Merrimac Ave. Dayton, Ohio 45405 Our Email Address: Merchants4all@aol.com Order by 24 Hour Fax!!! 775-257-6657. ***** Important Credit Card Information! Please Read Below! * Credit Card Address, City, State and Zip Code, must match billing address to be processed. CHECK____ MONEYORDER____ VISA____ MASTERCARD____ AmericanExpress___ Debt Card___ Name_______________________________________________________ (As it appears on Check or Credit Card) Address____________________________________________________ (As it appears on Check or Credit Card) ___________________________________________________ City,State,Zip(As it appears on Check or Credit Card) ___________________________________________________ Country ___________________________________________________ (Credit Card Number) Expiration Month_____ Year_____ ___________________________________________________ Authorized Signature *****IMPORTANT NOTE***** If Shipping Address Is Different From The Billing Address Above, Please Fill Out Information Below. Shipping Name______________________________________________ Shipping Address___________________________________________ ___________________________________________________________ Shipping City,State,Zip ___________________________________________________________ Country ___________________________________________________________ Email Address & Phone Number(Please Write Neat)\n"
     ]
    }
   ],
   "source": [
    "# General purpose function to convert an email to plain text\n",
    "def email_to_text(email):\n",
    "    text_content = \"\"\n",
    "    for part in email.walk():\n",
    "        part_content_type = part.get_content_type()\n",
    "        if part_content_type not in ['text/plain', 'text/html']:\n",
    "            continue\n",
    "        if part_content_type == 'text/plain':\n",
    "            text_content += part.get_payload()\n",
    "        else:\n",
    "            text_content += html_to_text(part)\n",
    "    return text_content\n",
    "\n",
    "print(\"Ham email in plain text:\\n\", email_to_text(ham_emails[3]))\n",
    "print(\"Spam email in plain text:\\n\", email_to_text(spam_emails[3]))"
   ]
  },
  {
   "cell_type": "code",
   "execution_count": 19,
   "metadata": {},
   "outputs": [],
   "source": [
    "# transforms the email to count the word usage in the message\n",
    "class EmailToWordsCount(BaseEstimator, TransformerMixin):\n",
    "    def __init__(self, strip_headers=True, to_lowercase=True, remove_punc=True, do_stem=True):\n",
    "        self.strip_headers = strip_headers\n",
    "        self.to_lowercase = to_lowercase\n",
    "        self.remove_punc = remove_punc\n",
    "        self.do_stem = do_stem\n",
    "        \n",
    "        # To perform stemming\n",
    "        self.stemmer = nltk.PorterStemmer()\n",
    "    def fit(self, X, y=None):\n",
    "        return self\n",
    "    def transform(self, X, y=None):\n",
    "        X_word_counts = []\n",
    "        for email in X:\n",
    "            # text of the email\n",
    "            plain = email_to_text(email)\n",
    "            if plain is None:\n",
    "                plain = \"nothing\"\n",
    "            \n",
    "            if self.to_lowercase:\n",
    "                plain = plain.lower()\n",
    "            \n",
    "            if self.remove_punc:\n",
    "                plain = plain.replace(\".\", \"\")\n",
    "                plain = plain.replace(\",\", \"\")\n",
    "                plain = plain.replace(\"!\", \"\")\n",
    "                plain = plain.replace(\"?\", \"\")\n",
    "                plain = plain.replace(\";\", \"\")\n",
    "                \n",
    "            word_counts = Counter(plain.split())\n",
    "            if self.do_stem:\n",
    "                # Stem the word, and add their counts\n",
    "                stemmed_word_counts = Counter()\n",
    "                for word, count in word_counts.items():\n",
    "                    root_word = self.stemmer.stem(word)\n",
    "                    stemmed_word_counts[root_word] += count\n",
    "                word_counts = stemmed_word_counts\n",
    "            \n",
    "            X_word_counts.append(word_counts)\n",
    "        return np.array(X_word_counts)"
   ]
  },
  {
   "cell_type": "code",
   "execution_count": 20,
   "metadata": {},
   "outputs": [
    {
     "name": "stdout",
     "output_type": "stream",
     "text": [
      "[Counter({'you': 21, 'the': 21, 'and': 14, 'to': 14, 'thi': 12, 'is': 11, 'that': 10, 'of': 10, 'mlm': 8, 'receiv': 7, 'for': 7, 'inform': 6, 'most': 6, 'it': 6, 'be': 6, 'will': 6, 'email': 6, 'in': 5, 'a': 5, 'ha': 5, 'your': 5, 'letter': 4, 'then': 4, 'no': 4, 'peopl': 4, 'work': 4, 'use': 4, 'our': 4, 'list': 4, 'are': 3, 'have': 3, 'about': 3, 'if': 3, \"you'v\": 3, 'market': 3, 'one': 3, 'their': 3, 'tell': 3, 'there': 3, 'through': 3, 'send': 3, 'i': 3, 'up': 3, 'free': 3, 'or': 3, 'becaus': 2, 'an': 2, 'onlin': 2, 'pleas': 2, 'so': 2, 'been': 2, 'multi-level': 2, 'read': 2, 'ever': 2, 'inbox': 2, 'promis': 2, 'cannot': 2, 'who': 2, 'earn': 2, 'big': 2, 'not': 2, 'someon': 2, \"haven't\": 2, 'dream': 2, 'with': 2, 'whi': 2, 'sent': 2, 'unsolicit': 2, 'sign': 2, 'system': 2, 'which': 2, 'agre': 2, 'also': 2, 'such': 2, 'greet': 1, 'express': 1, 'interest': 1, 'busi': 1, 'opportun': 1, 'erron': 1, 'accept': 1, 'my': 1, 'sincer': 1, 'apolog': 1, 'one-tim': 1, 'mail': 1, 'remov': 1, 'necessari': 1, 'burn': 1, 'betray': 1, 'back-stab': 1, 'by': 1, 'could': 1, 'import': 1, 'land': 1, 'huge': 1, 'mistak': 1, 'fail': 1, 'deliv': 1, 'on': 1, 'past': 1, '50': 1, 'year': 1, 'pursuit': 1, '\"mlm': 1, 'dream\"': 1, 'cost': 1, 'hundr': 1, 'thousand': 1, 'friend': 1, 'fortun': 1, 'sacr': 1, 'honor': 1, 'fact': 1, 'fatal': 1, 'flaw': 1, 'mean': 1, 'compani': 1, 'few': 1, 'money': 1, 'go': 1, 'real': 1, 'stori': 1, 'final': 1, 'courag': 1, 'cut': 1, 'hype': 1, 'lie': 1, 'truth': 1, \"here'\": 1, 'good': 1, 'news': 1, 'altern': 1, 'yet': 1, 'abandon': 1, 'need': 1, 'see': 1, 'kind': 1, 'incom': 1, 'easier': 1, 'than': 1, 'think': 1, 'permiss': 1, \"i'd\": 1, 'like': 1, 'brief': 1, \"doesn't\": 1, 'introduc': 1, 'someth': 1, 'new': 1, 'refresh': 1, \"you'll\": 1, 'wonder': 1, 'heard': 1, 'befor': 1, 'unwant': 1, 'follow': 1, 'sale': 1, 'pitch': 1, 'call': 1, 'address': 1, 'onli': 1, 'period': 1, 'life-chang': 1, 'simpli': 1, 'click': 1, 'repli': 1, 'type': 1, '\"send': 1, 'info\"': 1, 'subject': 1, 'box': 1, 'hit': 1, \"i'll\": 1, 'get': 1, 'within': 1, '24': 1, 'hour': 1, 'just': 1, 'look': 1, 'word': 1, 'wall': 1, 'shame': 1, 'cordial': 1, 'siddhi': 1, 'ps': 1, 'recent': 1, 'me': 1, 'eye-open': 1, 'financi': 1, 'benefici': 1, 'honestli': 1, 'believ': 1, 'feel': 1, 'same': 1, 'way': 1, 'onc': 1, \"it'\": 1, '------------------------------------------------------------': 1, 'never': 1, '\"spam\"': 1, 'explicitli': 1, 'yourself': 1, 'signup': 1, 'form': 1, 'ffa': 1, 'link': 1, 'page': 1, 'e-maildom': 1, 'explicit': 1, 'term': 1, 'state': 1, 'may': 1, 'member': 1, 'altra': 1, 'comput': 1, 'mani': 1, 'numer': 1, 'servic': 1, 'as': 1, 'when': 1, 'would': 1, 'due': 1, 'abov': 1, 'messag': 1, 'consid': 1, 'spam': 1, '-----------------------------------------------------------': 1, '--': 1, 'irish': 1, 'linux': 1, \"users'\": 1, 'group:': 1, 'ilug@linuxi': 1, 'http://wwwlinuxie/mailman/listinfo/ilug': 1, '(un)subscript': 1, 'maintainer:': 1, 'listmaster@linuxi': 1})\n",
      " Counter({'save': 8, 'you': 7, 'to': 6, 'life': 6, 'quot': 5, 'and': 5, 'the': 5, 'insur': 4, 'in': 4, 'on': 3, 'your': 3, 'is': 3, 'free': 3, 'best': 3, 'of': 3, 'up': 2, '70%': 2, 'than': 2, 'veri': 2, 'make': 2, 'from': 2, 'our': 2, 'type': 2, 'click': 2, 'here': 2, 'for': 2, 'if': 2, 'thi': 2, 'email': 2, 'remov': 2, 'pleas': 2, '</tr>': 1, 'whi': 1, 'spend': 1, 'more': 1, 'have': 1, 'ensur': 1, \"family'\": 1, 'financi': 1, 'secur': 1, 'import': 1, 'buy': 1, 'simpl': 1, 'afford': 1, 'we': 1, 'provid': 1, 'access': 1, 'compani': 1, 'lowest': 1, 'rate': 1, 'fast': 1, 'easi': 1, 'money': 1, 'let': 1, 'us': 1, 'help': 1, 'get': 1, 'start': 1, 'with': 1, 'valu': 1, 'countri': 1, 'new': 1, 'coverag': 1, 'can': 1, 'hundr': 1, 'or': 1, 'even': 1, 'thousand': 1, 'dollar': 1, 'by': 1, 'request': 1, 'a': 1, 'lifequot': 1, 'servic': 1, 'will': 1, 'take': 1, 'less': 1, '5': 1, 'minut': 1, 'complet': 1, 'shop': 1, 'compar': 1, 'all': 1, 'protect': 1, 'famili': 1, 'invest': 1, \"you'll\": 1, 'ever': 1, 'are': 1, 'receipt': 1, 'error': 1, 'and/or': 1, 'wish': 1, 'be': 1, 'list': 1, 'resid': 1, 'ani': 1, 'state': 1, 'which': 1, 'prohibit': 1, 'e-mail': 1, 'solicit': 1, 'disregard': 1})]\n"
     ]
    }
   ],
   "source": [
    "# test \n",
    "X_few = spam_emails[1:3]\n",
    "ewc = EmailToWordsCount()\n",
    "X_few_counts = ewc.fit_transform(X_few)\n",
    "print(X_few_counts)"
   ]
  },
  {
   "cell_type": "code",
   "execution_count": 21,
   "metadata": {},
   "outputs": [],
   "source": [
    "#Build a Numpy matrix with the vocabulary of words to consider and their usage counts\n",
    "class WordCountVectorizer(BaseEstimator, TransformerMixin):\n",
    "    def __init__(self, vocabulary_size=1000):\n",
    "        self.vocabulary_size = vocabulary_size\n",
    "    # train on list of word counts and build vocabulary\n",
    "    def fit(self, X, y=None):\n",
    "        total_word_counts = Counter()\n",
    "        for word_count in X:\n",
    "            for word, count in word_count.items():\n",
    "                total_word_counts[word] += count\n",
    "                \n",
    "        # Build a vocabulary out of total most common\n",
    "        self.most_common = total_word_counts.most_common()[:self.vocabulary_size]\n",
    "        self.vocabulary_ = {word: i for i, (word, count) in enumerate(self.most_common)}\n",
    "    \n",
    "        return self\n",
    "    # Create the vector out of vocabulary\n",
    "    def transform(self, X, y=None):\n",
    "        X_new = np.zeros([X.shape[0], self.vocabulary_size + 1], dtype=int)\n",
    "        \n",
    "        # The vectors will contain additional column for counts of words\n",
    "        # not captured in vocabulary\n",
    "        for row, word_counts in enumerate(X):\n",
    "            for word, count in word_counts.items():\n",
    "                col = self.vocabulary_.get(word, self.vocabulary_size)\n",
    "                X_new[row, col] += count\n",
    "                \n",
    "        return X_new"
   ]
  },
  {
   "cell_type": "code",
   "execution_count": 22,
   "metadata": {},
   "outputs": [
    {
     "name": "stdout",
     "output_type": "stream",
     "text": [
      "Vector of word counts:\n",
      " [[ 21  21  14  14  12  11  10  10   5   7 368]\n",
      " [  7   5   6   5   2   3   3   0   4   2 135]]\n",
      "Vocabulary generated:\n",
      " {'you': 0, 'the': 1, 'to': 2, 'and': 3, 'thi': 4, 'is': 5, 'of': 6, 'that': 7, 'in': 8, 'for': 9}\n"
     ]
    }
   ],
   "source": [
    "vectorizer = WordCountVectorizer(vocabulary_size=10)\n",
    "X_few_vector = vectorizer.fit_transform(X_few_counts)\n",
    "\n",
    "print(\"Vector of word counts:\\n\", X_few_vector)\n",
    "print(\"Vocabulary generated:\\n\", vectorizer.vocabulary_)"
   ]
  },
  {
   "cell_type": "markdown",
   "metadata": {},
   "source": [
    "Note: The fianl column is the number of words not included in the vocabulary"
   ]
  },
  {
   "cell_type": "code",
   "execution_count": 29,
   "metadata": {},
   "outputs": [],
   "source": [
    "email_to_cvector = Pipeline([\n",
    "    (\"emailToWords\", EmailToWordsCount()), \n",
    "    (\"wordCountVectorizer\", WordCountVectorizer())\n",
    "])"
   ]
  },
  {
   "cell_type": "code",
   "execution_count": 24,
   "metadata": {},
   "outputs": [
    {
     "name": "stderr",
     "output_type": "stream",
     "text": [
      "/var/folders/zf/01pjc4xs3_qgc7zwdcv09qvh0000gn/T/ipykernel_2692/1604658743.py:1: VisibleDeprecationWarning: Creating an ndarray from ragged nested sequences (which is a list-or-tuple of lists-or-tuples-or ndarrays with different lengths or shapes) is deprecated. If you meant to do this, you must specify 'dtype=object' when creating the ndarray.\n",
      "  X = np.array(ham_emails + spam_emails)\n"
     ]
    }
   ],
   "source": [
    "X = np.array(ham_emails + spam_emails)\n",
    "y = np.array([0] * len(ham_emails) + [1] * len(spam_emails))"
   ]
  },
  {
   "cell_type": "code",
   "execution_count": 25,
   "metadata": {},
   "outputs": [
    {
     "name": "stdout",
     "output_type": "stream",
     "text": [
      "Training set size:  (7479,) (7479,)\n",
      "Testing set size:  (1870,) (1870,)\n"
     ]
    }
   ],
   "source": [
    "X_train, X_test, y_train, y_test = train_test_split(X, y, test_size=0.2, shuffle=True, random_state=3301)\n",
    "\n",
    "print(\"Training set size: \", X_train.shape, y_train.shape)\n",
    "print(\"Testing set size: \", X_test.shape, y_test.shape)"
   ]
  },
  {
   "cell_type": "code",
   "execution_count": 30,
   "metadata": {},
   "outputs": [
    {
     "data": {
      "text/plain": [
       "array([[  7,   6,   0, ...,   0,   0,  57],\n",
       "       [  9,   7,   0, ...,   0,   0,  42],\n",
       "       [  1,   5,   4, ...,   0,   0,  60],\n",
       "       ...,\n",
       "       [ 14,   9,   0, ...,   0,   0, 134],\n",
       "       [ 33,  20,   0, ...,   1,   0, 125],\n",
       "       [  0,   3,   0, ...,   0,   0,  17]])"
      ]
     },
     "execution_count": 30,
     "metadata": {},
     "output_type": "execute_result"
    }
   ],
   "source": [
    "# prepare the training and testing set \n",
    "X_train_prepared = email_to_cvector.fit_transform(X_train)\n",
    "X_train_prepared"
   ]
  },
  {
   "cell_type": "code",
   "execution_count": 31,
   "metadata": {},
   "outputs": [
    {
     "data": {
      "text/plain": [
       "array([[  2,   0,   0, ...,   0,   0,  37],\n",
       "       [ 23,  21,   0, ...,   0,   0, 168],\n",
       "       [  2,   3,   0, ...,   0,   0,  19],\n",
       "       ...,\n",
       "       [ 16,   7,   0, ...,   0,   0,  63],\n",
       "       [ 31,  41,  33, ...,   0,   0, 164],\n",
       "       [  0,   4,   0, ...,   0,   0,  22]])"
      ]
     },
     "execution_count": 31,
     "metadata": {},
     "output_type": "execute_result"
    }
   ],
   "source": [
    "X_test_prepared = email_to_cvector.transform(X_test)\n",
    "X_test_prepared"
   ]
  },
  {
   "cell_type": "code",
   "execution_count": null,
   "metadata": {},
   "outputs": [],
   "source": []
  },
  {
   "cell_type": "code",
   "execution_count": null,
   "metadata": {},
   "outputs": [],
   "source": []
  }
 ],
 "metadata": {
  "kernelspec": {
   "display_name": "dev",
   "language": "python",
   "name": "python3"
  },
  "language_info": {
   "codemirror_mode": {
    "name": "ipython",
    "version": 3
   },
   "file_extension": ".py",
   "mimetype": "text/x-python",
   "name": "python",
   "nbconvert_exporter": "python",
   "pygments_lexer": "ipython3",
   "version": "3.10.8"
  }
 },
 "nbformat": 4,
 "nbformat_minor": 2
}
